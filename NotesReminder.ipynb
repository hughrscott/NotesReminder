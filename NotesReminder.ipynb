{
  "cells": [
    {
      "cell_type": "markdown",
      "metadata": {
        "colab_type": "text",
        "id": "view-in-github"
      },
      "source": [
        "<a href=\"https://colab.research.google.com/github/hughrscott/NotesReminder/blob/main/NotesReminder.ipynb\" target=\"_parent\"><img src=\"https://colab.research.google.com/assets/colab-badge.svg\" alt=\"Open In Colab\"/></a>"
      ]
    },
    {
      "cell_type": "code",
      "execution_count": 2,
      "metadata": {
        "colab": {
          "base_uri": "https://localhost:8080/"
        },
        "id": "jg2OJv3U_NHU",
        "outputId": "5ebf4c4e-e71d-4211-e514-e5537e509cd4"
      },
      "outputs": [
        {
          "name": "stdout",
          "output_type": "stream",
          "text": [
            "📂 SQLite database and 'reminders' table created successfully!\n"
          ]
        }
      ],
      "source": [
        "import sqlite3\n",
        "\n",
        "# Connect to SQLite database (creates the database file if it doesn't exist clearly)\n",
        "conn = sqlite3.connect('reminders.db')\n",
        "\n",
        "# Create a cursor to execute SQL commands clearly\n",
        "cursor = conn.cursor()\n",
        "\n",
        "# Define your reminders table clearly\n",
        "cursor.execute('''\n",
        "CREATE TABLE IF NOT EXISTS reminders (\n",
        "    id INTEGER PRIMARY KEY AUTOINCREMENT,\n",
        "    lesson_id TEXT UNIQUE,\n",
        "    instructor_name TEXT,\n",
        "    lesson_date TEXT,\n",
        "    reminder_sent INTEGER DEFAULT 0,\n",
        "    reminder_count INTEGER DEFAULT 0,\n",
        "    note_completed INTEGER DEFAULT 0,\n",
        "    last_checked DATE,\n",
        "    last_reminder_sent TIMESTAMP\n",
        ");\n",
        "''')\n",
        "\n",
        "# Commit changes and close clearly\n",
        "conn.commit()\n",
        "conn.close()\n",
        "\n",
        "print(\"📂 SQLite database and 'reminders' table created successfully!\")\n",
        "\n"
      ]
    },
    {
      "cell_type": "code",
      "execution_count": 3,
      "metadata": {
        "colab": {
          "base_uri": "https://localhost:8080/"
        },
        "id": "KQI88ZwmAENo",
        "outputId": "34e23736-295d-49e6-a55f-f0df9bf67f43"
      },
      "outputs": [
        {
          "name": "stdout",
          "output_type": "stream",
          "text": [
            "📋 Tables in your database clearly: [('reminders',), ('sqlite_sequence',)]\n",
            "\n",
            "🔍 Clearly checking 'reminders' table structure:\n",
            "(0, 'id', 'INTEGER', 0, None, 1)\n",
            "(1, 'lesson_id', 'TEXT', 0, None, 0)\n",
            "(2, 'instructor_name', 'TEXT', 0, None, 0)\n",
            "(3, 'lesson_date', 'TEXT', 0, None, 0)\n",
            "(4, 'reminder_sent', 'INTEGER', 0, '0', 0)\n",
            "(5, 'reminder_count', 'INTEGER', 0, '0', 0)\n",
            "(6, 'note_completed', 'INTEGER', 0, '0', 0)\n",
            "(7, 'last_checked', 'DATE', 0, None, 0)\n",
            "(8, 'last_reminder_sent', 'TIMESTAMP', 0, None, 0)\n"
          ]
        }
      ],
      "source": [
        "# Verify table structure\n",
        "conn = sqlite3.connect('reminders.db')\n",
        "cursor = conn.cursor()\n",
        "\n",
        "cursor.execute(\"SELECT name FROM sqlite_master WHERE type='table';\")\n",
        "tables = cursor.fetchall()\n",
        "\n",
        "print(\"📋 Tables in your database clearly:\", tables)\n",
        "\n",
        "cursor.execute(\"PRAGMA table_info(reminders);\")\n",
        "columns = cursor.fetchall()\n",
        "\n",
        "print(\"\\n🔍 Clearly checking 'reminders' table structure:\")\n",
        "for col in columns:\n",
        "    print(col)\n",
        "\n",
        "conn.close()\n"
      ]
    },
    {
      "cell_type": "code",
      "execution_count": 5,
      "metadata": {
        "id": "ZkPawrEdERWj"
      },
      "outputs": [],
      "source": [
        "il not found clearly for instructor: {name}\")\n",
        "        return None\n"
      ]
    },
    {
      "cell_type": "code",
      "execution_count": 7,
      "metadata": {
        "colab": {
          "base_uri": "https://localhost:8080/",
          "height": 367
        },
        "id": "RiyrfOOTHLyd",
        "outputId": "ac777e10-a64e-4575-c98e-fd53d9e56bd9"
      },
      "outputs": [
        {
          "ename": "ModuleNotFoundError",
          "evalue": "No module named 'instructor_mapping'",
          "output_type": "error",
          "traceback": [
            "\u001b[0;31m---------------------------------------------------------------------------\u001b[0m",
            "\u001b[0;31mModuleNotFoundError\u001b[0m                       Traceback (most recent call last)",
            "\u001b[0;32m<ipython-input-7-ffe50340fbba>\u001b[0m in \u001b[0;36m<cell line: 0>\u001b[0;34m()\u001b[0m\n\u001b[0;32m----> 1\u001b[0;31m \u001b[0;32mfrom\u001b[0m \u001b[0minstructor_mapping\u001b[0m \u001b[0;32mimport\u001b[0m \u001b[0mget_instructor_email\u001b[0m\u001b[0;34m\u001b[0m\u001b[0;34m\u001b[0m\u001b[0m\n\u001b[0m\u001b[1;32m      2\u001b[0m \u001b[0;34m\u001b[0m\u001b[0m\n\u001b[1;32m      3\u001b[0m \u001b[0minstructor_name\u001b[0m \u001b[0;34m=\u001b[0m \u001b[0;34m\"Hugh Scott\"\u001b[0m\u001b[0;34m\u001b[0m\u001b[0;34m\u001b[0m\u001b[0m\n\u001b[1;32m      4\u001b[0m \u001b[0;34m\u001b[0m\u001b[0m\n\u001b[1;32m      5\u001b[0m \u001b[0memail\u001b[0m \u001b[0;34m=\u001b[0m \u001b[0mget_instructor_email\u001b[0m\u001b[0;34m(\u001b[0m\u001b[0minstructor_name\u001b[0m\u001b[0;34m)\u001b[0m\u001b[0;34m\u001b[0m\u001b[0;34m\u001b[0m\u001b[0m\n",
            "\u001b[0;31mModuleNotFoundError\u001b[0m: No module named 'instructor_mapping'",
            "",
            "\u001b[0;31m---------------------------------------------------------------------------\u001b[0;32m\nNOTE: If your import is failing due to a missing package, you can\nmanually install dependencies using either !pip or !apt.\n\nTo view examples of installing some common dependencies, click the\n\"Open Examples\" button below.\n\u001b[0;31m---------------------------------------------------------------------------\u001b[0m\n"
          ]
        }
      ],
      "source": [
        "from instructor_mapping import get_instructor_email\n",
        "\n",
        "instructor_name = \"Hugh Scott\"\n",
        "\n",
        "email = get_instructor_email(instructor_name)\n",
        "if email:\n",
        "    print(f\"✅ Email found: {email}\")"
      ]
    }
  ],
  "metadata": {
    "colab": {
      "authorship_tag": "ABX9TyMLFDJN64PJjlBBk8idC6I2",
      "include_colab_link": true,
      "provenance": []
    },
    "kernelspec": {
      "display_name": "Python 3",
      "name": "python3"
    },
    "language_info": {
      "name": "python"
    }
  },
  "nbformat": 4,
  "nbformat_minor": 0
}
