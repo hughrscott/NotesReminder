{
  "nbformat": 4,
  "nbformat_minor": 0,
  "metadata": {
    "colab": {
      "provenance": [],
      "authorship_tag": "ABX9TyPIFbMwr2bFNpZyBGUX94X3",
      "include_colab_link": true
    },
    "kernelspec": {
      "name": "python3",
      "display_name": "Python 3"
    },
    "language_info": {
      "name": "python"
    }
  },
  "cells": [
    {
      "cell_type": "markdown",
      "metadata": {
        "id": "view-in-github",
        "colab_type": "text"
      },
      "source": [
        "<a href=\"https://colab.research.google.com/github/hughrscott/NotesReminder/blob/main/instructormapping.ipynb\" target=\"_parent\"><img src=\"https://colab.research.google.com/assets/colab-badge.svg\" alt=\"Open In Colab\"/></a>"
      ]
    },
    {
      "cell_type": "code",
      "execution_count": 1,
      "metadata": {
        "colab": {
          "base_uri": "https://localhost:8080/",
          "height": 102
        },
        "id": "jycDSWSqHXDD",
        "outputId": "27066cfa-b8b9-4355-ed4b-331e90465e9a"
      },
      "outputs": [
        {
          "output_type": "error",
          "ename": "SyntaxError",
          "evalue": "unterminated string literal (detected at line 39) (<ipython-input-1-90677f5d359e>, line 39)",
          "traceback": [
            "\u001b[0;36m  File \u001b[0;32m\"<ipython-input-1-90677f5d359e>\"\u001b[0;36m, line \u001b[0;32m39\u001b[0m\n\u001b[0;31m    print(f\"⚠️ Ema\u001b[0m\n\u001b[0m          ^\u001b[0m\n\u001b[0;31mSyntaxError\u001b[0m\u001b[0;31m:\u001b[0m unterminated string literal (detected at line 39)\n"
          ]
        }
      ],
      "source": [
        "# instructor_mapping.py\n",
        "# Clearly defined instructor contact details\n",
        "\n",
        "INSTRUCTOR_EMAILS = {\n",
        "    \"John Doe\": \"john.doe@example.com\",\n",
        "    \"Jane Smith\": \"jane.smith@example.com\",\n",
        "    \"Vivian Scott\":\"vscott@schoolofrock.com\",\n",
        "    \"Hugh Scott\":\"huscott@schoolofrock.com\",\n",
        "    \"Zach Jones\":\"earthwindfile6@gmail.com\",\n",
        "    \"Matt Mireles\":\"mwmireles@gmail.com\",\n",
        "    \"Gio Soto\":\"davidgiosoto@gmail.com\",\n",
        "    \"Daniel Rutledge\":\"drutledge@schoolofrock.com\",\n",
        "    \"Andre Cunningham\":\"apcunningham2@gmail.com\",\n",
        "    \"Noel Rodriguez\":\"noel.rdz.g@gmail.com\",\n",
        "    \"Logan Gill\":\"lgill57851@gmail.com\",\n",
        "    \"Rodney Chinelliott\":\"elrodney@gmail.com\",\n",
        "    \"Quincy Cotton\":\"qjcmusic@gmail.com\",\n",
        "    \"Richard Sharp\":\"rsharp@schoolofrock.com\",\n",
        "    \"Bennett Sharp\":\"bsharp@schoolofrock.com\",\n",
        "    \"Reef Stallworth\":\"sonto456@gmail.com\",\n",
        "    \"Brodie Scott\":\"bonniescott987@gmail.com\",\n",
        "    \"Camille McCloskey\":\"camillemccloskey@gmail.com\",\n",
        "    \"Julie Harvley\":\"julienaugie@gmail.com\"\n",
        "    # Add more instructors here clearly\n",
        "}\n",
        "\n",
        "# Optional (if you plan to implement SMS via Twilio)\n",
        "INSTRUCTOR_PHONES = {\n",
        "    \"John Doe\": \"+18323359429\",\n",
        "    \"Jane Smith\": \"+18321234567\",\n",
        "    # Add more instructors here clearly\n",
        "}\n",
        "\n",
        "def get_instructor_email(name):\n",
        "    email = INSTRUCTOR_EMAILS.get(name)\n",
        "    if email:\n",
        "        return email\n",
        "    else:\n",
        "        print(f\"⚠️ Ema"
      ]
    }
  ]
}